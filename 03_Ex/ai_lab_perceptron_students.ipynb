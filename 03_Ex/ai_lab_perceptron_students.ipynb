{
 "cells": [
  {
   "attachments": {},
   "cell_type": "markdown",
   "id": "sacred-connecticut",
   "metadata": {},
   "source": [
    "# Classification with the perceptron and logistic regression\n",
    "\n",
    "__Individual assignment__\n",
    "\n",
    "Author of the assignment: Pierre Nugues\n",
    "\n",
    "__Student name__: Ondrej Kafka"
   ]
  },
  {
   "cell_type": "markdown",
   "id": "single-jackson",
   "metadata": {},
   "source": [
    "## Objectives\n",
    "\n",
    "The objectives of this second assignment are to:\n",
    "\n",
    "1.  Write a linear regression program using gradient descent;\n",
    "2.  Write linear classifiers using the perceptron algorithm and logistic regression;\n",
    "3.  Experiment variations of the algorithms;\n",
    "4.  Evaluate your classifiers;\n",
    "5.  Experiment with popular tools;\n",
    "6.  Read a scientific article on optimization techniques and comment it;\n",
    "7.  Present your code, results, and comments in a short dissertation."
   ]
  },
  {
   "cell_type": "markdown",
   "id": "photographic-coral",
   "metadata": {},
   "source": [
    "## Overview\n",
    "\n",
    "The gradient descent is a basic technique to estimate linear discriminant functions. You will first use the gradient descent method to implement linear regression. You will then program the perceptron algorithm. Finally, you will improve the threshold function with the logistic curve (logistic regression). You will try various configurations and study their influence on the learning speed and accuracy."
   ]
  },
  {
   "cell_type": "markdown",
   "id": "express-external",
   "metadata": {},
   "source": [
    "##  Programming language\n",
    "As programming language, you will use Python and write your code in this notebook.\n",
    "\n",
    "You need to have a comprehensive Python distribution such as Anaconda (https://www.anaconda.com/products/individual). This distribution is available on the student computers at the computer science department.\n",
    "Finally, you start a notebook by typing:\n",
    "\n",
    "`jupyter lab`\n",
    "\n",
    "in a terminal window and you select the notebook by clicking on it in the left pane.\n",
    "You run the pieces of code by typing shift+enter."
   ]
  },
  {
   "cell_type": "markdown",
   "id": "adjacent-crawford",
   "metadata": {},
   "source": [
    "## Imports\n",
    "Imports you may use"
   ]
  },
  {
   "cell_type": "code",
   "execution_count": 2,
   "id": "demanding-violence",
   "metadata": {},
   "outputs": [],
   "source": [
    "import numpy as np\n",
    "import math\n",
    "import matplotlib.pyplot as plt\n",
    "from matplotlib import cm\n",
    "from mpl_toolkits.mplot3d import Axes3D"
   ]
  },
  {
   "cell_type": "markdown",
   "id": "interior-genealogy",
   "metadata": {},
   "source": [
    "## Linear Regression\n",
    "\n",
    "You will implement the gradient descent method as explained in pages 719--720 in Russell-Norvig and in the slides to compute regression lines. You will implement the stochastic and batch versions of the algorithm.\n",
    "\n",
    "You must try to do it yourself first. If you encounter difficulties, you also have the solution to this exercise in the section _Solution to linear regression_ below."
   ]
  },
  {
   "cell_type": "markdown",
   "id": "entire-basic",
   "metadata": {},
   "source": [
    "### Your implementation of linear regression\n",
    "You will implement a regression program to predict the counts of _A_'s in a text from the total count of letters. You will apply it on two data sets corresponding to letter counts in the 15 chapters of the French and English versions of _Salammbô_, where the first column is the total count of characters and the second one, the count of A's. \n",
    "\n",
    "Start with either French or English and when your program ready, test it on the other language."
   ]
  },
  {
   "cell_type": "code",
   "execution_count": 301,
   "id": "forbidden-front",
   "metadata": {},
   "outputs": [],
   "source": [
    "stat_fr = np.array([[36961, 2503],\n",
    "                      [43621, 2992],\n",
    "                      [15694, 1042],\n",
    "                      [36231, 2487],\n",
    "                      [29945, 2014],\n",
    "                      [40588, 2805],\n",
    "                      [75255, 5062],\n",
    "                      [37709, 2643],\n",
    "                      [30899, 2126],\n",
    "                      [25486, 1784],\n",
    "                      [37497, 2641],\n",
    "                      [40398, 2766],\n",
    "                      [74105, 5047],\n",
    "                      [76725, 5312],\n",
    "                      [18317, 1215]])\n",
    "\n",
    "stat_en = np.array([[35680, 2217],\n",
    "                      [42514, 2761],\n",
    "                      [15162, 990],\n",
    "                      [35298, 2274],\n",
    "                      [29800, 1865],\n",
    "                      [40255, 2606],\n",
    "                      [74532, 4805],\n",
    "                      [37464, 2396],\n",
    "                      [31030, 1993],\n",
    "                      [24843, 1627],\n",
    "                      [36172, 2375],\n",
    "                      [39552, 2560],\n",
    "                      [72545, 4597],\n",
    "                      [75352, 4871],\n",
    "                      [18031, 1119]])"
   ]
  },
  {
   "cell_type": "markdown",
   "id": "adaptive-backing",
   "metadata": {},
   "source": [
    "From the datasets above, tell what is $\\mathbf{X}$ and $\\mathbf{y}$. Extract:\n",
    "1. The $\\mathbf{X}$ matrix, where you will have a column to model the intercept;\n",
    "2. The $\\mathbf{y}$ vector\n",
    "\n",
    "from these arrays."
   ]
  },
  {
   "cell_type": "code",
   "execution_count": 302,
   "id": "attached-aluminum",
   "metadata": {},
   "outputs": [],
   "source": [
    "X1 = stat_fr[:,0, None] # None is used to keep the dimension of the array, equivalent to reshape(-1,1)\n",
    "y1 = stat_fr[:,1, None]\n",
    "\n",
    "X2 = stat_en[:,0, None]\n",
    "y2 = stat_en[:,1, None]"
   ]
  },
  {
   "cell_type": "code",
   "execution_count": 303,
   "id": "560b188c",
   "metadata": {},
   "outputs": [
    {
     "data": {
      "text/plain": [
       "array([[36961],\n",
       "       [43621],\n",
       "       [15694],\n",
       "       [36231],\n",
       "       [29945],\n",
       "       [40588],\n",
       "       [75255],\n",
       "       [37709],\n",
       "       [30899],\n",
       "       [25486],\n",
       "       [37497],\n",
       "       [40398],\n",
       "       [74105],\n",
       "       [76725],\n",
       "       [18317]])"
      ]
     },
     "execution_count": 303,
     "metadata": {},
     "output_type": "execute_result"
    }
   ],
   "source": [
    "X1"
   ]
  },
  {
   "cell_type": "markdown",
   "id": "cross-neighborhood",
   "metadata": {},
   "source": [
    "Scale the arrays so that they fit in the range [0, 1] on the $x$ and $y$ axes. "
   ]
  },
  {
   "cell_type": "code",
   "execution_count": 304,
   "id": "sudden-decision",
   "metadata": {},
   "outputs": [],
   "source": [
    "from sklearn.preprocessing import MinMaxScaler\n",
    "scaler = MinMaxScaler()\n",
    "scaler.fit(X1)\n",
    "X1_n = scaler.transform(X1)\n",
    "scaler.fit(X2)\n",
    "X2_n = scaler.transform(X2)\n",
    "\n",
    "scaler.fit(y1)\n",
    "y1_n = scaler.transform(y1)\n",
    "scaler.fit(y2)\n",
    "y2_n = scaler.transform(y2)\n"
   ]
  },
  {
   "cell_type": "code",
   "execution_count": 305,
   "id": "32182062",
   "metadata": {},
   "outputs": [],
   "source": [
    "# adding ones for the intercept - bias\n",
    "X1t = np.concatenate((np.ones(X1_n.shape), X1_n), axis=1)\n",
    "X2t = np.concatenate((np.ones(X2_n.shape), X2_n), axis=1)"
   ]
  },
  {
   "cell_type": "markdown",
   "id": "motivated-upset",
   "metadata": {},
   "source": [
    "#### Gradient descent"
   ]
  },
  {
   "cell_type": "markdown",
   "id": "careful-supplier",
   "metadata": {},
   "source": [
    "Implement the descent functions. You will pass `X`, `y`, the learning rate in the $\\alpha$ variable, the initial weight vector in `w`, the tolerance in the $\\epsilon$ variable, the maximal number of epochs in `epochs`. You will return `w`."
   ]
  },
  {
   "cell_type": "markdown",
   "id": "internal-luther",
   "metadata": {},
   "source": [
    "Batch descent"
   ]
  },
  {
   "cell_type": "code",
   "execution_count": 306,
   "id": "planned-italy",
   "metadata": {},
   "outputs": [],
   "source": [
    "def fit_batch(X, y, alpha, w, epochs=1000, epsilon=1.0e-6, verbose=False):\n",
    "    for epoch in range(epochs):\n",
    "        y_pred = X @ w\n",
    "        error = y - y_pred\n",
    "        grad = X.T @ error\n",
    "\n",
    "        if verbose and epoch % 100 == 0:\n",
    "            mse = np.mean(error**2)\n",
    "            print(\"MSE:\", mse)\n",
    "\n",
    "        if np.linalg.norm(grad) < epsilon:\n",
    "            break\n",
    "        \n",
    "        w = w + alpha * grad / X.shape[0]\n",
    "    return w\n"
   ]
  },
  {
   "cell_type": "markdown",
   "id": "french-sight",
   "metadata": {},
   "source": [
    "Stochastic descent"
   ]
  },
  {
   "cell_type": "code",
   "execution_count": 307,
   "id": "emerging-vegetation",
   "metadata": {},
   "outputs": [],
   "source": [
    "def fit_stoch(X, y, alpha, w, epochs=500, epsilon=1.0e-6, verbose=False):\n",
    "    for epoch in range(epochs):\n",
    "        perm = np.random.permutation(len(y))\n",
    "        for i in range(len(y)):\n",
    "            iR = perm[i]\n",
    "            y_pred = X[iR] @ w\n",
    "            error = y[iR] - y_pred\n",
    "            grad = X[iR, None].T * error\n",
    "\n",
    "            if verbose and epoch % 100 == 0:\n",
    "                mse = np.mean(error**2)\n",
    "                print(\"MSE:\", mse)\n",
    "\n",
    "            if np.linalg.norm(grad) < epsilon:\n",
    "                return w\n",
    "                \n",
    "            w = w + alpha * grad\n",
    "    return w"
   ]
  },
  {
   "cell_type": "markdown",
   "id": "junior-kazakhstan",
   "metadata": {},
   "source": [
    "#### Applying batch descent"
   ]
  },
  {
   "cell_type": "markdown",
   "id": "treated-assets",
   "metadata": {},
   "source": [
    "Apply the batch descent and print the final weight values "
   ]
  },
  {
   "cell_type": "code",
   "execution_count": 308,
   "id": "maritime-andorra",
   "metadata": {},
   "outputs": [],
   "source": [
    "w = np.ones((X1t.shape[1], 1)) * 1/np.sqrt(2)\n",
    "\n",
    "w1 = fit_batch(X1t, y1_n, 0.05, w, epochs=4000)\n",
    "w2 = fit_batch(X2t, y2_n, 0.05, w, epochs=4000)"
   ]
  },
  {
   "cell_type": "markdown",
   "id": "virgin-blast",
   "metadata": {},
   "source": [
    "Visualize the points of your dataset as well as the regression lines you obtain using matplotlib or another similar program."
   ]
  },
  {
   "cell_type": "code",
   "execution_count": 309,
   "id": "durable-stationery",
   "metadata": {},
   "outputs": [
    {
     "data": {
      "image/png": "[encoded data removed]",
      "text/plain": [
       "<Figure size 640x480 with 1 Axes>"
      ]
     },
     "metadata": {},
     "output_type": "display_data"
    }
   ],
   "source": [
    "# visualize the data into one plot with fitted lines\n",
    "plt.scatter(X1t[:,1], y1_n, color='red', label='French')\n",
    "plt.plot(X1t[:,1], np.dot(X1t, w1), color='red')\n",
    "plt.scatter(X2t[:,1], y2_n, color='blue', label='English')\n",
    "plt.plot(X2t[:,1], np.dot(X2t, w2), color='blue')\n",
    "plt.xlabel('normalized words')\n",
    "plt.ylabel('normalized A\\'s')\n",
    "plt.legend()\n",
    "plt.savefig('lin_reg_b.png')\n"
   ]
  },
  {
   "cell_type": "markdown",
   "id": "consistent-tampa",
   "metadata": {},
   "source": [
    "#### Stochastic descent"
   ]
  },
  {
   "cell_type": "code",
   "execution_count": 310,
   "id": "distinct-cruise",
   "metadata": {},
   "outputs": [],
   "source": [
    "w = np.ones((X1t.shape[1], 1)) * 1/np.sqrt(2)\n",
    "\n",
    "w1 = fit_stoch(X1t, y1_n, 0.05, w, epochs=2000)\n",
    "w2 = fit_stoch(X2t, y2_n, 0.05, w, epochs=2000)"
   ]
  },
  {
   "cell_type": "code",
   "execution_count": 311,
   "id": "ca5b1b76",
   "metadata": {},
   "outputs": [
    {
     "data": {
      "text/plain": [
       "array([[0.00879927],\n",
       "       [0.975713  ]])"
      ]
     },
     "execution_count": 311,
     "metadata": {},
     "output_type": "execute_result"
    }
   ],
   "source": [
    "w1"
   ]
  },
  {
   "cell_type": "markdown",
   "id": "fuzzy-circular",
   "metadata": {},
   "source": [
    "Visualize the points of your dataset as well as the regression lines you obtain using matplotlib or another similar program."
   ]
  },
  {
   "cell_type": "code",
   "execution_count": 312,
   "id": "illegal-steps",
   "metadata": {},
   "outputs": [
    {
     "data": {
      "image/png": "[encoded data removed]",
      "text/plain": [
       "<Figure size 640x480 with 1 Axes>"
      ]
     },
     "metadata": {},
     "output_type": "display_data"
    }
   ],
   "source": [
    "plt.scatter(X1t[:,1], y1_n, color='red', label='French')\n",
    "plt.plot(X1t[:,1], np.dot(X1t, w1), color='red')\n",
    "plt.scatter(X2t[:,1], y2_n, color='blue', label='English')\n",
    "plt.plot(X2t[:,1], np.dot(X2t, w2), color='blue')\n",
    "plt.xlabel('normalized words')\n",
    "plt.ylabel('mnormalized A\\'s')\n",
    "plt.legend()\n",
    "plt.savefig('lin_reg_s.png')\n"
   ]
  },
  {
   "cell_type": "markdown",
   "id": "biological-assignment",
   "metadata": {},
   "source": [
    "### A solution to linear regression\n",
    "\n",
    "To help you start this assignment, your instructor wrote two Python notebooks that solve this exercise on linear regression. You can find them here: https://github.com/pnugues/ilppp/tree/master/programs/ch04/python\n",
    "The first notebook, `gradient_descent.ipynb`, only uses Python and vector operations such as the dot product that are in the `vector.py` file.\n",
    "The second notebook, `gradient_descent_numpy.ipynb`, uses Numpy. It is more compact, but you need to know a bit of numpy.\n",
    "\n",
    "To run these programs, download them on your computer as well as the other program in the import list: vector.py\n",
    "\n",
    "The programs are also available as Python programs from\n",
    "https://github.com/pnugues/ilppp/tree/master/programs/ch04/python"
   ]
  },
  {
   "cell_type": "markdown",
   "id": "suspended-province",
   "metadata": {},
   "source": [
    "## Classification\n",
    "You will use the same data set as for linear regression, but this time to classify a chapter as French or English. Given a pair of numbers corresponding the letter count and count of _A_, you will predict the language:\n",
    "1. $\\mathbf{x} = (35680, 2217)$ $\\to$ $y$ = English\n",
    "2. $\\mathbf{x} = (37497, 2641)$ $\\to$ $y$ = French"
   ]
  },
  {
   "cell_type": "markdown",
   "id": "joint-psychology",
   "metadata": {},
   "source": [
    "### The dataset\n",
    "You will use the arrays below:\n",
    "1. `X` contains the counts of letters and of _A_ s as well as a column of ones for the intercept;\n",
    "2. `y` contains the classes, where 0 is for English and 1 for French."
   ]
  },
  {
   "cell_type": "code",
   "execution_count": 3,
   "id": "sustainable-payment",
   "metadata": {},
   "outputs": [],
   "source": [
    "X = [[1.0, 35680.0, 2217.0],\n",
    "     [1.0, 42514.0, 2761.0],\n",
    "     [1.0, 15162.0, 990.0],\n",
    "     [1.0, 35298.0, 2274.0],\n",
    "     [1.0, 29800.0, 1865.0],\n",
    "     [1.0, 40255.0, 2606.0],\n",
    "     [1.0, 74532.0, 4805.0],\n",
    "     [1.0, 37464.0, 2396.0],\n",
    "     [1.0, 31030.0, 1993.0],\n",
    "     [1.0, 24843.0, 1627.0],\n",
    "     [1.0, 36172.0, 2375.0],\n",
    "     [1.0, 39552.0, 2560.0],\n",
    "     [1.0, 72545.0, 4597.0],\n",
    "     [1.0, 75352.0, 4871.0],\n",
    "     [1.0, 18031.0, 1119.0],\n",
    "     [1.0, 36961.0, 2503.0],\n",
    "     [1.0, 43621.0, 2992.0],\n",
    "     [1.0, 15694.0, 1042.0],\n",
    "     [1.0, 36231.0, 2487.0],\n",
    "     [1.0, 29945.0, 2014.0],\n",
    "     [1.0, 40588.0, 2805.0],\n",
    "     [1.0, 75255.0, 5062.0],\n",
    "     [1.0, 37709.0, 2643.0],\n",
    "     [1.0, 30899.0, 2126.0],\n",
    "     [1.0, 25486.0, 1784.0],\n",
    "     [1.0, 37497.0, 2641.0],\n",
    "     [1.0, 40398.0, 2766.0],\n",
    "     [1.0, 74105.0, 5047.0],\n",
    "     [1.0, 76725.0, 5312.0],\n",
    "     [1.0, 18317.0, 1215.0]]\n",
    "y = [0.0, 0.0, 0.0, 0.0, 0.0, 0.0, 0.0, 0.0, 0.0, 0.0, 0.0, 0.0, 0.0, 0.0, 0.0,\n",
    "     1.0, 1.0, 1.0, 1.0, 1.0, 1.0, 1.0, 1.0, 1.0, 1.0, 1.0, 1.0, 1.0, 1.0, 1.0]"
   ]
  },
  {
   "cell_type": "markdown",
   "id": "emerging-looking",
   "metadata": {},
   "source": [
    "We visualize it"
   ]
  },
  {
   "cell_type": "code",
   "execution_count": 4,
   "id": "verified-bridal",
   "metadata": {},
   "outputs": [],
   "source": [
    "x_fr = [x[1] for i, x in enumerate(X) if y[i] == 1]\n",
    "y_fr = [x[2] for i, x in enumerate(X) if y[i] == 1]\n",
    "x_en = [x[1] for i, x in enumerate(X) if y[i] == 0]\n",
    "y_en = [x[2] for i, x in enumerate(X) if y[i] == 0]"
   ]
  },
  {
   "cell_type": "code",
   "execution_count": 315,
   "id": "constitutional-carry",
   "metadata": {},
   "outputs": [
    {
     "data": {
      "text/plain": [
       "<matplotlib.collections.PathCollection at 0x7f9e511d05b0>"
      ]
     },
     "execution_count": 315,
     "metadata": {},
     "output_type": "execute_result"
    },
    {
     "data": {
      "image/png": "[encoded data removed]",
      "text/plain": [
       "<Figure size 640x480 with 1 Axes>"
      ]
     },
     "metadata": {},
     "output_type": "display_data"
    }
   ],
   "source": [
    "plt.scatter(x_fr, y_fr, color='red')\n",
    "plt.scatter(x_en, y_en, color='blue')"
   ]
  },
  {
   "cell_type": "markdown",
   "id": "mineral-pointer",
   "metadata": {},
   "source": [
    "### Normalize the dataset"
   ]
  },
  {
   "cell_type": "markdown",
   "id": "imported-reporter",
   "metadata": {},
   "source": [
    "Gradient descent algorithms can be very sensitive to the range. Therefore, we normalize the dataset."
   ]
  },
  {
   "cell_type": "code",
   "execution_count": 5,
   "id": "adequate-words",
   "metadata": {},
   "outputs": [],
   "source": [
    "def normalize(observations):\n",
    "    maxima = [max([obs[i] for obs in observations]) for i in range(len(observations[0]))]\n",
    "    return ([[obs[i] / maxima[i]\n",
    "              for i in range(len(observations[0]))] for obs in observations],\n",
    "            maxima)"
   ]
  },
  {
   "cell_type": "code",
   "execution_count": 6,
   "id": "conservative-effectiveness",
   "metadata": {},
   "outputs": [
    {
     "data": {
      "text/plain": [
       "[[1.0, 0.4650374714890844, 0.4173569277108434],\n",
       " [1.0, 0.5541088302378625, 0.5197665662650602],\n",
       " [1.0, 0.19761485826001954, 0.18637048192771086],\n",
       " [1.0, 0.460058651026393, 0.42808734939759036],\n",
       " [1.0, 0.3884001303356142, 0.3510918674698795],\n",
       " [1.0, 0.5246660149885957, 0.49058734939759036],\n",
       " [1.0, 0.9714173998044966, 0.9045557228915663],\n",
       " [1.0, 0.4882893450635386, 0.4510542168674699],\n",
       " [1.0, 0.4044314108830238, 0.37518825301204817],\n",
       " [1.0, 0.32379276637341153, 0.30628765060240964],\n",
       " [1.0, 0.47144998370804825, 0.4471009036144578],\n",
       " [1.0, 0.5155034213098729, 0.4819277108433735],\n",
       " [1.0, 0.9455197132616487, 0.8653990963855421],\n",
       " [1.0, 0.9821049201694363, 0.916980421686747],\n",
       " [1.0, 0.2350081459758879, 0.21065512048192772],\n",
       " [1.0, 0.48173346366894754, 0.4711972891566265],\n",
       " [1.0, 0.5685369827305311, 0.5632530120481928],\n",
       " [1.0, 0.2045487129358097, 0.19615963855421686],\n",
       " [1.0, 0.47221896383186707, 0.46818524096385544],\n",
       " [1.0, 0.39028999674160963, 0.37914156626506024],\n",
       " [1.0, 0.5290061909416748, 0.5280496987951807],\n",
       " [1.0, 0.9808406647116324, 0.9529367469879518],\n",
       " [1.0, 0.49148256761159986, 0.4975527108433735],\n",
       " [1.0, 0.40272401433691757, 0.4002259036144578],\n",
       " [1.0, 0.3321733463668948, 0.3358433734939759],\n",
       " [1.0, 0.4887194525904203, 0.4971762048192771],\n",
       " [1.0, 0.5265298142717497, 0.5207078313253012],\n",
       " [1.0, 0.9658520690778756, 0.9501129518072289],\n",
       " [1.0, 1.0, 1.0],\n",
       " [1.0, 0.23873574454219615, 0.22872740963855423]]"
      ]
     },
     "execution_count": 6,
     "metadata": {},
     "output_type": "execute_result"
    }
   ],
   "source": [
    "X_norm, maxima = normalize(X)\n",
    "X_norm"
   ]
  },
  {
   "cell_type": "code",
   "execution_count": 318,
   "id": "87ff727d",
   "metadata": {},
   "outputs": [],
   "source": [
    "X_ = np.array(X_norm) # convert to numpy array\n",
    "y_ = np.array(y)[: , None] # make it a column vector"
   ]
  },
  {
   "cell_type": "markdown",
   "id": "attached-reverse",
   "metadata": {},
   "source": [
    "## The Perceptron\n",
    "\n",
    "1. Write the perceptron program as explained in pages 723--725 in Russell-Norvig and in the slides and run it on your data set. As suggested program structure, use two functions: \n",
    " * `fit(X, y)` that will return `w` (the model). You can choose a stochastic or batch variant;\n",
    " * `predict(X, w)` that will return `y_hat`. You can encapsulate these functions in a class and, of course, add more parameters.\n",
    "2. As a stop criterion, you will use the number of misclassified examples.\n",
    "3. You will report the parameters you have used and the weight vector\n",
    "\n",
    "You can use numpy or not. The next cells are just suggested steps. You can implement it your way."
   ]
  },
  {
   "cell_type": "markdown",
   "id": "applicable-missouri",
   "metadata": {},
   "source": [
    "### The `predict(X, w)` function\n",
    "Write a `predict(X, w)` function that given a matrix of observations $\\mathbf{X}$ and a weight vector $\\mathbf{w}$ will return a $\\mathbf{\\hat{y}}$ vector classes (0 or 1)"
   ]
  },
  {
   "cell_type": "code",
   "execution_count": 319,
   "id": "demanding-stage",
   "metadata": {},
   "outputs": [],
   "source": [
    "# Write your code here\n",
    "def predict(X, w, th=0):\n",
    "    return  (X @ w > th).astype(int) \n"
   ]
  },
  {
   "cell_type": "markdown",
   "id": "choice-morgan",
   "metadata": {},
   "source": [
    "### The `fit(X, y)` function"
   ]
  },
  {
   "cell_type": "markdown",
   "id": "documented-cartridge",
   "metadata": {},
   "source": [
    "Write a `fit(X, y)` function that given a matrix of observations $\\mathbf{X}$ and a vector of responses $\\mathbf{y}$ will return a weight $\\mathbf{w}$ vector. You may use the other arguments of the function, notably the number of misclassified examples to define the stop condition."
   ]
  },
  {
   "cell_type": "code",
   "execution_count": 320,
   "id": "therapeutic-balloon",
   "metadata": {},
   "outputs": [],
   "source": [
    "import random\n",
    "\n",
    "def fit_stoch(X, y, epochs=1000, max_misclassified=0, verbose=False):\n",
    "    w = np.zeros((X.shape[1], 1))\n",
    "    for epoch in range(epochs):\n",
    "        perm = np.random.permutation(len(y))\n",
    "        errs = 0 \n",
    "        for i in range(len(y)):\n",
    "            iR = perm[i]\n",
    "            y_pred = predict(X[iR], w)\n",
    "            error = y[iR] - y_pred[0]\n",
    "\n",
    "            errs += error != 0\n",
    "            w += error * X[iR, None].T\n",
    "\n",
    "        if verbose and epoch % 100 == 0:\n",
    "            print(f'Epoch {epoch}, errors: {errs}')\n",
    "\n",
    "        if errs <= max_misclassified:\n",
    "            break\n",
    "    return w, epoch\n"
   ]
  },
  {
   "cell_type": "code",
   "execution_count": 321,
   "id": "b258752b",
   "metadata": {},
   "outputs": [],
   "source": [
    "def fit_batch(X, y, epochs=10000, max_misclassified=0, verbose=False):\n",
    "    w = np.zeros((X.shape[1], 1))\n",
    "    for epoch in range(epochs):\n",
    "        y_pred = predict(X, w)\n",
    "        error = y - y_pred\n",
    "\n",
    "        errs = np.abs(error).sum()\n",
    "        w += X.T @ error\n",
    "\n",
    "        if verbose and epoch % 100 == 0:\n",
    "            print(f'Epoch {epoch}, errors: {errs}')\n",
    "\n",
    "        if errs <= max_misclassified:\n",
    "            break\n",
    "    return w, epoch"
   ]
  },
  {
   "cell_type": "markdown",
   "id": "accessory-graduate",
   "metadata": {},
   "source": [
    "### Fitting the dataset"
   ]
  },
  {
   "cell_type": "code",
   "execution_count": 322,
   "id": "reported-uniform",
   "metadata": {},
   "outputs": [
    {
     "data": {
      "text/plain": [
       "(array([[   0.        ],\n",
       "        [-388.30880417],\n",
       "        [ 409.12104669]]),\n",
       " 3566)"
      ]
     },
     "execution_count": 322,
     "metadata": {},
     "output_type": "execute_result"
    }
   ],
   "source": [
    "w, e = fit_batch(X_, y_)\n",
    "w, e"
   ]
  },
  {
   "cell_type": "code",
   "execution_count": 323,
   "id": "a336feee",
   "metadata": {},
   "outputs": [
    {
     "name": "stdout",
     "output_type": "stream",
     "text": [
      "Restored weights [array([0.]), array([-26.8842798]), array([409.12104669])]\n",
      "Weights with y set to 1 [array([0.]), array([-0.06571229]), array([1.])]\n"
     ]
    }
   ],
   "source": [
    "w = [w[i] * maxima[-1] / maxima[i] for i in range(len(w))]\n",
    "print(\"Restored weights\", w)\n",
    "w = [w[j] / w[-1] for j in range(len(w))]\n",
    "print(\"Weights with y set to 1\", w)"
   ]
  },
  {
   "cell_type": "markdown",
   "id": "demographic-control",
   "metadata": {},
   "source": [
    "### Visualizing the results"
   ]
  },
  {
   "cell_type": "code",
   "execution_count": 324,
   "id": "forward-enclosure",
   "metadata": {},
   "outputs": [
    {
     "data": {
      "image/png": "[encoded data removed]",
      "text/plain": [
       "<Figure size 640x480 with 1 Axes>"
      ]
     },
     "metadata": {},
     "output_type": "display_data"
    }
   ],
   "source": [
    "plt.scatter(x_fr, y_fr, color='red',  label='French')\n",
    "plt.scatter(x_en, y_en, color='blue', label='English')\n",
    "plt.plot([min(x_fr + x_en), max(x_fr + x_en)],\n",
    "             [-w[1] * min(x_fr + x_en) - w[0], -w[1] * max(x_fr + x_en) - w[0]])\n",
    "\n",
    "plt.xlabel('word counts')\n",
    "plt.ylabel('A\\'s counts')\n",
    "plt.legend()\n",
    "plt.savefig('perceptron_s.png')\n"
   ]
  },
  {
   "cell_type": "markdown",
   "id": "eleven-honolulu",
   "metadata": {},
   "source": [
    "### Evaluation\n",
    "Evaluate your perceptron using the leave-one-out cross validation method. You will have to train and run 30 models. In each train/run session, you will train on 29 samples and evaluate on the remaining sample. You have then either a correct or a wrong classification. You will sum these classifications, i.e. the number of correct classifications, to get your final evaluation, for instance 29/30."
   ]
  },
  {
   "cell_type": "code",
   "execution_count": 325,
   "id": "patent-leeds",
   "metadata": {},
   "outputs": [],
   "source": [
    "def leave_one_out_cross_val(X, y, fitting_function):\n",
    "    total_corr = 0\n",
    "    for fold in range(X.shape[0]):\n",
    "        X_train = np.concatenate((X[:fold], X[fold + 1:]))\n",
    "        y_train = np.concatenate((y[:fold], y[fold + 1:]))\n",
    "        X_test = X[fold]\n",
    "        y_test = y[fold]\n",
    "\n",
    "        w, epochs = fitting_function(X_train, y_train)\n",
    "        y_pred = predict(X_test, w)\n",
    "\n",
    "        corr = 1 if y_pred[0] == y_test else 0\n",
    "        total_corr += corr\n",
    "        print(f\"Fold {fold} of {X.shape[0]}: {y_pred[0]} vs {y_test} => {'CORRECT' if corr else 'WRONG'}, epochs {epochs}\")\n",
    "        \n",
    "    return total_corr \n"
   ]
  },
  {
   "cell_type": "code",
   "execution_count": 326,
   "id": "21d64f07",
   "metadata": {},
   "outputs": [
    {
     "name": "stdout",
     "output_type": "stream",
     "text": [
      "Fold 0 of 30: 0 vs [0.] => CORRECT, epochs 3794\n",
      "Fold 1 of 30: 0 vs [0.] => CORRECT, epochs 3378\n",
      "Fold 2 of 30: 0 vs [0.] => CORRECT, epochs 97\n",
      "Fold 3 of 30: 0 vs [0.] => CORRECT, epochs 3542\n",
      "Fold 4 of 30: 0 vs [0.] => CORRECT, epochs 3769\n",
      "Fold 5 of 30: 0 vs [0.] => CORRECT, epochs 3432\n",
      "Fold 6 of 30: 0 vs [0.] => CORRECT, epochs 3811\n",
      "Fold 7 of 30: 0 vs [0.] => CORRECT, epochs 3513\n",
      "Fold 8 of 30: 0 vs [0.] => CORRECT, epochs 3498\n",
      "Fold 9 of 30: 0 vs [0.] => CORRECT, epochs 3432\n",
      "Fold 10 of 30: 0 vs [0.] => CORRECT, epochs 3437\n",
      "Fold 11 of 30: 0 vs [0.] => CORRECT, epochs 3452\n",
      "Fold 12 of 30: 0 vs [0.] => CORRECT, epochs 4076\n",
      "Fold 13 of 30: 0 vs [0.] => CORRECT, epochs 3754\n",
      "Fold 14 of 30: 0 vs [0.] => CORRECT, epochs 35\n",
      "Fold 15 of 30: 1 vs [1.] => CORRECT, epochs 3297\n",
      "Fold 16 of 30: 1 vs [1.] => CORRECT, epochs 3307\n",
      "Fold 17 of 30: 1 vs [1.] => CORRECT, epochs 3445\n",
      "Fold 18 of 30: 1 vs [1.] => CORRECT, epochs 3349\n",
      "Fold 19 of 30: 1 vs [1.] => CORRECT, epochs 3391\n",
      "Fold 20 of 30: 1 vs [1.] => CORRECT, epochs 3385\n",
      "Fold 21 of 30: 1 vs [1.] => CORRECT, epochs 125\n",
      "Fold 22 of 30: 1 vs [1.] => CORRECT, epochs 3791\n",
      "Fold 23 of 30: 1 vs [1.] => CORRECT, epochs 3411\n",
      "Fold 24 of 30: 1 vs [1.] => CORRECT, epochs 3492\n",
      "Fold 25 of 30: 1 vs [1.] => CORRECT, epochs 3781\n",
      "Fold 26 of 30: 1 vs [1.] => CORRECT, epochs 3339\n",
      "Fold 27 of 30: 1 vs [1.] => CORRECT, epochs 120\n",
      "Fold 28 of 30: 1 vs [1.] => CORRECT, epochs 220\n",
      "Fold 29 of 30: 1 vs [1.] => CORRECT, epochs 3425\n",
      "Cross-validation accuracy (stochastic): 30 / 30\n"
     ]
    }
   ],
   "source": [
    "stoch_correct = leave_one_out_cross_val(X_, y_, fit_batch)\n",
    "print(f'Cross-validation accuracy (stochastic): {stoch_correct} / {X_.shape[0]}')"
   ]
  },
  {
   "cell_type": "markdown",
   "id": "toxic-score",
   "metadata": {},
   "source": [
    "## Logistic Regression\n",
    "From your perceptron program, implement logistic regression. You can either follow the description from the textbook, S. Russell and R. Norvig, _Artificial Intelligence_, 2010, pages 725--727, or the slides. You can either implement the stochastic or the batch version of the algorithm, or both versions. As stop criterion, you will use either the norm of the gradient or the norm of the difference between two consecutive weight vectors. You will also set a maximal number of epochs. Run the resulting program on your data set."
   ]
  },
  {
   "cell_type": "markdown",
   "id": "variable-albania",
   "metadata": {},
   "source": [
    "Write the logistic function, where the $x$ input is a real number."
   ]
  },
  {
   "cell_type": "code",
   "execution_count": 327,
   "id": "secret-orbit",
   "metadata": {},
   "outputs": [],
   "source": [
    "def logistic(x):\n",
    "    return 1 / (1 + np.exp(-x))\n"
   ]
  },
  {
   "cell_type": "markdown",
   "id": "atmospheric-payroll",
   "metadata": {},
   "source": [
    "### The `predict(X, w)` function"
   ]
  },
  {
   "cell_type": "markdown",
   "id": "motivated-mustang",
   "metadata": {},
   "source": [
    "Write a `predict_proba()` function that given a matrix of observations $\\mathbf{X}$ and a weight vector $\\mathbf{w}$ will return a vector of probabilities to belong to class 1: The vector will consist of $P(1|\\mathbf{x}_i)$ for all the $i$ rows of $\\mathbf{X}$."
   ]
  },
  {
   "cell_type": "code",
   "execution_count": 328,
   "id": "genuine-sharing",
   "metadata": {},
   "outputs": [],
   "source": [
    "def predict_proba(X, w):\n",
    "    return logistic(X @ w)\n"
   ]
  },
  {
   "cell_type": "markdown",
   "id": "front-salad",
   "metadata": {},
   "source": [
    "Write a `predict(X, w)` function that given a matrix of observations $\\mathbf{X}$ and a weight vector $\\mathbf{w}$ will return the class. You will use `predict_proba()` and set the threshold to belong to class 1 to 0.5."
   ]
  },
  {
   "cell_type": "code",
   "execution_count": 329,
   "id": "historic-intention",
   "metadata": {},
   "outputs": [],
   "source": [
    "def predict(X, w):\n",
    "    return (predict_proba(X, w) > 0.5).astype(int)\n"
   ]
  },
  {
   "cell_type": "markdown",
   "id": "assisted-variation",
   "metadata": {},
   "source": [
    "### The `fit(X, y)` function"
   ]
  },
  {
   "cell_type": "markdown",
   "id": "blind-relation",
   "metadata": {},
   "source": [
    "You will now write the `fit(X, y)` function as with the perceptron. You may call it `fit_stoch(X, y)` or `fit_batch(X, y)`. Use the parameters given in the cell below."
   ]
  },
  {
   "cell_type": "code",
   "execution_count": 397,
   "id": "parallel-reynolds",
   "metadata": {},
   "outputs": [],
   "source": [
    "import random\n",
    "\n",
    "def fit_stoch(X, y, alpha=5, epochs=50000, epsilon=1.0e-7, verbose=False):\n",
    "    w = np.zeros((X.shape[1], 1))\n",
    "    for epoch in range(epochs):\n",
    "        perm = np.random.permutation(len(y))\n",
    "        for i in range(len(y)):\n",
    "            iR = perm[i]\n",
    "            y_pred = predict_proba(X[iR], w)[0]\n",
    "            error = y[iR] - y_pred\n",
    "\n",
    "            grad = error * X[iR, None].T\n",
    "            w += alpha*grad\n",
    "\n",
    "            if verbose and epoch % 10 == 0:\n",
    "                print(f'Epoch {epoch}, grad norm: {np.linalg.norm(grad)}, label { y[iR]},  pred {y_pred}')\n",
    "\n",
    "        if np.linalg.norm(grad) < epsilon:\n",
    "            return w, epoch\n",
    "\n",
    "\n",
    "    return w, epoch\n"
   ]
  },
  {
   "cell_type": "code",
   "execution_count": 406,
   "id": "naughty-sphere",
   "metadata": {},
   "outputs": [
    {
     "name": "stdout",
     "output_type": "stream",
     "text": [
      "grad\n"
     ]
    },
    {
     "data": {
      "text/plain": [
       "array([[   2.10208991],\n",
       "       [-282.72982275],\n",
       "       [ 298.08084315]])"
      ]
     },
     "execution_count": 406,
     "metadata": {},
     "output_type": "execute_result"
    }
   ],
   "source": [
    "w, e= fit_stoch(X_, y_)\n",
    "w"
   ]
  },
  {
   "cell_type": "code",
   "execution_count": 392,
   "id": "bac6c5c3",
   "metadata": {},
   "outputs": [],
   "source": [
    "def fit_batch(X, y, alpha=150, epochs=20000, epsilon=1.0e-4, verbose=False):\n",
    "    w = np.zeros((X.shape[1], 1))\n",
    "    for epoch in range(epochs):\n",
    "        y_pred = predict_proba(X, w)\n",
    "        error = y - y_pred\n",
    "        grad = X.T @ error  \n",
    "        w += alpha * grad/ len(y)\n",
    "\n",
    "        if verbose and epoch % 100 == 0:\n",
    "            print(f'Epoch {epoch}, grad norm: {np.linalg.norm(grad)}')\n",
    "        if np.linalg.norm(grad) < epsilon:\n",
    "            return w, epoch\n",
    "    return w, epoch\n"
   ]
  },
  {
   "cell_type": "code",
   "execution_count": 401,
   "id": "73ff700c",
   "metadata": {},
   "outputs": [
    {
     "data": {
      "text/plain": [
       "array([[    2.97672295],\n",
       "       [-2037.3956607 ],\n",
       "       [ 2128.23995776]])"
      ]
     },
     "execution_count": 401,
     "metadata": {},
     "output_type": "execute_result"
    }
   ],
   "source": [
    "w, e = fit_batch(X_, y_)\n",
    "w"
   ]
  },
  {
   "cell_type": "code",
   "execution_count": 407,
   "id": "experienced-manor",
   "metadata": {},
   "outputs": [
    {
     "name": "stdout",
     "output_type": "stream",
     "text": [
      "Restored weights [array([2.10208991]), array([-0.00368498]), array([0.05611462])]\n",
      "Weights with y set to 1 [array([37.46064826]), array([-0.06566875]), array([1.])]\n"
     ]
    }
   ],
   "source": [
    "w = [w[i] / maxima[i] for i in range(len(w))]\n",
    "print(\"Restored weights\", w)\n",
    "w = [w[j] / w[-1] for j in range(len(w))]\n",
    "print(\"Weights with y set to 1\", w)"
   ]
  },
  {
   "cell_type": "markdown",
   "id": "coastal-motion",
   "metadata": {},
   "source": [
    "### Visualizing the results"
   ]
  },
  {
   "cell_type": "code",
   "execution_count": 370,
   "id": "illegal-evans",
   "metadata": {},
   "outputs": [
    {
     "data": {
      "image/png": "[encoded data removed]",
      "text/plain": [
       "<Figure size 640x480 with 1 Axes>"
      ]
     },
     "metadata": {},
     "output_type": "display_data"
    }
   ],
   "source": [
    "plt.scatter(x_fr, y_fr, color='red', label='French')\n",
    "plt.scatter(x_en, y_en, color='blue', label='English')\n",
    "plt.plot([min(x_fr + x_en), max(x_fr + x_en)],\n",
    "         [-w[1] * min(x_fr + x_en) - w[0], -w[1] * max(x_fr + x_en) - w[0]])\n",
    "plt.xlabel('word counts')\n",
    "plt.ylabel('A\\'s counts')\n",
    "plt.legend()\n",
    "plt.savefig('log_reg_s.png')\n"
   ]
  },
  {
   "cell_type": "markdown",
   "id": "wireless-value",
   "metadata": {},
   "source": [
    "### Evaluation\n",
    "Evaluate your logistic regression using the leave-one-out cross validation method as with the perceptron"
   ]
  },
  {
   "cell_type": "code",
   "execution_count": 387,
   "id": "addcbf43",
   "metadata": {},
   "outputs": [
    {
     "name": "stdout",
     "output_type": "stream",
     "text": [
      "Fold 0 of 30: 0 vs [0.] => CORRECT, epochs 5055\n",
      "Fold 1 of 30: 0 vs [0.] => CORRECT, epochs 4515\n",
      "Fold 2 of 30: 1 vs [0.] => WRONG, epochs 7688\n",
      "Fold 3 of 30: 0 vs [0.] => CORRECT, epochs 4490\n",
      "Fold 4 of 30: 0 vs [0.] => CORRECT, epochs 5155\n",
      "Fold 5 of 30: 0 vs [0.] => CORRECT, epochs 4510\n",
      "Fold 6 of 30: 0 vs [0.] => CORRECT, epochs 4980\n",
      "Fold 7 of 30: 0 vs [0.] => CORRECT, epochs 4333\n",
      "Fold 8 of 30: 0 vs [0.] => CORRECT, epochs 4507\n",
      "Fold 9 of 30: 0 vs [0.] => CORRECT, epochs 4034\n",
      "Fold 10 of 30: 0 vs [0.] => CORRECT, epochs 3981\n",
      "Fold 11 of 30: 0 vs [0.] => CORRECT, epochs 4510\n",
      "Fold 12 of 30: 0 vs [0.] => CORRECT, epochs 5371\n",
      "Fold 13 of 30: 0 vs [0.] => CORRECT, epochs 4861\n",
      "Fold 14 of 30: 0 vs [0.] => CORRECT, epochs 4747\n",
      "Fold 15 of 30: 1 vs [1.] => CORRECT, epochs 4725\n",
      "Fold 16 of 30: 1 vs [1.] => CORRECT, epochs 4436\n",
      "Fold 17 of 30: 1 vs [1.] => CORRECT, epochs 4557\n",
      "Fold 18 of 30: 1 vs [1.] => CORRECT, epochs 4803\n",
      "Fold 19 of 30: 1 vs [1.] => CORRECT, epochs 4804\n",
      "Fold 20 of 30: 1 vs [1.] => CORRECT, epochs 4586\n",
      "Fold 21 of 30: 1 vs [1.] => CORRECT, epochs 3985\n",
      "Fold 22 of 30: 1 vs [1.] => CORRECT, epochs 5083\n",
      "Fold 23 of 30: 1 vs [1.] => CORRECT, epochs 4870\n",
      "Fold 24 of 30: 1 vs [1.] => CORRECT, epochs 4944\n",
      "Fold 25 of 30: 1 vs [1.] => CORRECT, epochs 5085\n",
      "Fold 26 of 30: 1 vs [1.] => CORRECT, epochs 4540\n",
      "Fold 27 of 30: 1 vs [1.] => CORRECT, epochs 4479\n",
      "Fold 28 of 30: 1 vs [1.] => CORRECT, epochs 5193\n",
      "Fold 29 of 30: 1 vs [1.] => CORRECT, epochs 6255\n",
      "Cross-validation accuracy (stochastic): 29 / 30\n"
     ]
    }
   ],
   "source": [
    "stoch_correct = leave_one_out_cross_val(X_, y_, fit_batch)\n",
    "print(f'Cross-validation accuracy (stochastic): {stoch_correct} / {X_.shape[0]}')"
   ]
  },
  {
   "cell_type": "markdown",
   "id": "global-difficulty",
   "metadata": {},
   "source": [
    "## Visualizing the logistic surface"
   ]
  },
  {
   "cell_type": "code",
   "execution_count": null,
   "id": "sunrise-tractor",
   "metadata": {},
   "outputs": [],
   "source": [
    "def plot_logistic_surf(x_range, y_range, w_opt):\n",
    "    z_axis = np.array([[0.0] * len(y_range) for i in range(len(x_range))])\n",
    "    x_axis, y_axis = np.meshgrid(x_range, y_range)\n",
    "    z_axis = z_axis.reshape(x_axis.shape)\n",
    "\n",
    "    # We compute the probability surface as a function of x and y\n",
    "    for i in range(len(x_range)):\n",
    "        for j in range(len(y_range)):\n",
    "            z_axis[j, i] = logistic(np.dot([1, x_range[i], y_range[j]], w_opt))\n",
    "    return x_axis, y_axis, z_axis"
   ]
  },
  {
   "cell_type": "code",
   "execution_count": null,
   "id": "confirmed-plastic",
   "metadata": {},
   "outputs": [
    {
     "name": "stderr",
     "output_type": "stream",
     "text": [
      "/tmp/ipykernel_20573/1412568146.py:3: RuntimeWarning: overflow encountered in exp\n",
      "  return 1 / (1 + np.exp(-x))\n"
     ]
    },
    {
     "data": {
      "image/png": "[encoded data removed]",
      "text/plain": [
       "<Figure size 640x480 with 2 Axes>"
      ]
     },
     "metadata": {},
     "output_type": "display_data"
    }
   ],
   "source": [
    "x_range = np.linspace(0, 100000, 200)\n",
    "y_range = np.linspace(0, 10000, 200)\n",
    "#w = [2.073225839414742, -0.049125455233437906, 0.7440143556104162]\n",
    "\n",
    "x_axis, y_axis, z_axis = plot_logistic_surf(x_range, y_range, w)\n",
    "\n",
    "fig = plt.figure()\n",
    "ax = Axes3D(fig, auto_add_to_figure=False)\n",
    "fig.add_axes(ax)\n",
    "\n",
    "surf = ax.plot_surface(y_axis, x_axis, z_axis, rstride=1, cstride=1, cmap=cm.coolwarm, linewidth=0, antialiased=False, alpha=0.2)\n",
    "fig.colorbar(surf, shrink=0.5, aspect=5)\n",
    "# We plot the observations\n",
    "for x, y_class in zip(X, y):\n",
    "    if y_class == 1:\n",
    "        ax.scatter(x[2], x[1], y_class, color='green', marker='x')\n",
    "    else:\n",
    "        ax.scatter(x[2], x[1], y_class, color='red', marker='x')\n",
    "\n",
    "ax.elev = 30 \n",
    "ax.azim = -150\n",
    "plt.show()"
   ]
  },
  {
   "cell_type": "markdown",
   "id": "acoustic-ideal",
   "metadata": {},
   "source": [
    "## Programming logistic regression with popular APIs\n",
    "Should you use logistic regression in a project, you will probably resort to existing libraries. In the next cells, you will apply the logistic regression classification with two popular APIs:\n",
    "1. sklearn\n",
    "2. Keras\n",
    "\n",
    "`sklearn` is included in anaconda.\n",
    "You will install the rest with:\n",
    "```\n",
    "pip install --upgrade keras tensorflow tensorflow-addons \n",
    "```\n",
    "You will read and run the code in the cells below."
   ]
  },
  {
   "cell_type": "markdown",
   "id": "synthetic-karma",
   "metadata": {},
   "source": [
    "All these APIs are built on numpy and we convert the dataset into numpy if you have not done it already"
   ]
  },
  {
   "cell_type": "code",
   "execution_count": 7,
   "id": "horizontal-celebrity",
   "metadata": {},
   "outputs": [],
   "source": [
    "X = np.array(X)\n",
    "X_norm = np.array(X_norm)\n",
    "y = np.array(y)"
   ]
  },
  {
   "cell_type": "markdown",
   "id": "linear-institution",
   "metadata": {},
   "source": [
    "They also handle the intercept so we do not need the first column of ones."
   ]
  },
  {
   "cell_type": "code",
   "execution_count": 8,
   "id": "thick-leadership",
   "metadata": {},
   "outputs": [],
   "source": [
    "X = X[:, 1:]\n",
    "X_norm = X_norm[:, 1:]"
   ]
  },
  {
   "cell_type": "markdown",
   "id": "phantom-peter",
   "metadata": {},
   "source": [
    "### sklearn\n",
    "Using the dataset of English and French datapoints, we apply logistic regression with the sklearn API. We need the `LogisticRegression` class, the fit() and predict() functions. The weights are in the `coef_` field."
   ]
  },
  {
   "cell_type": "code",
   "execution_count": 41,
   "id": "adult-young",
   "metadata": {},
   "outputs": [
    {
     "data": {
      "text/plain": [
       "array([[-0.03372363,  0.51169867]])"
      ]
     },
     "execution_count": 41,
     "metadata": {},
     "output_type": "execute_result"
    }
   ],
   "source": [
    "from sklearn.linear_model import LogisticRegression\n",
    "model = LogisticRegression()\n",
    "model = model.fit(X, y)\n",
    "model.coef_"
   ]
  },
  {
   "cell_type": "markdown",
   "id": "effective-adventure",
   "metadata": {},
   "source": [
    "We predict the classes of the $\\mathbf{X}$ with the `predict()` function"
   ]
  },
  {
   "cell_type": "code",
   "execution_count": 42,
   "id": "bizarre-african",
   "metadata": {},
   "outputs": [
    {
     "data": {
      "text/plain": [
       "array([0., 0., 0., 0., 0., 0., 0., 0., 0., 0., 0., 0., 0., 0., 0., 1., 1.,\n",
       "       1., 1., 1., 1., 1., 1., 1., 1., 1., 1., 1., 1., 1.])"
      ]
     },
     "execution_count": 42,
     "metadata": {},
     "output_type": "execute_result"
    }
   ],
   "source": [
    "model.predict(X)"
   ]
  },
  {
   "cell_type": "markdown",
   "id": "dental-watson",
   "metadata": {},
   "source": [
    "We predict the class probabilities of the $\\mathbf{X}$ with the `predict_proba()` function"
   ]
  },
  {
   "cell_type": "code",
   "execution_count": 43,
   "id": "composed-playlist",
   "metadata": {},
   "outputs": [
    {
     "data": {
      "text/plain": [
       "array([[1.00000000e+00, 1.28980319e-30],\n",
       "       [9.99999999e-01, 8.16295157e-10],\n",
       "       [9.91302434e-01, 8.69756611e-03],\n",
       "       [1.00000000e+00, 2.35657080e-12],\n",
       "       [1.00000000e+00, 1.01085544e-22],\n",
       "       [1.00000000e+00, 3.56287478e-11],\n",
       "       [1.00000000e+00, 1.62389438e-24],\n",
       "       [1.00000000e+00, 5.76610689e-17],\n",
       "       [1.00000000e+00, 2.72458519e-12],\n",
       "       [9.94843591e-01, 5.15640906e-03],\n",
       "       [9.89714656e-01, 1.02853437e-02],\n",
       "       [1.00000000e+00, 4.22127774e-11],\n",
       "       [1.00000000e+00, 1.22665951e-41],\n",
       "       [1.00000000e+00, 7.37721442e-22],\n",
       "       [1.00000000e+00, 3.90177203e-16],\n",
       "       [1.33226763e-15, 1.00000000e+00],\n",
       "       [0.00000000e+00, 1.00000000e+00],\n",
       "       [1.92390717e-02, 9.80760928e-01],\n",
       "       [0.00000000e+00, 1.00000000e+00],\n",
       "       [1.01629571e-09, 9.99999999e-01],\n",
       "       [0.00000000e+00, 1.00000000e+00],\n",
       "       [0.00000000e+00, 1.00000000e+00],\n",
       "       [0.00000000e+00, 1.00000000e+00],\n",
       "       [0.00000000e+00, 1.00000000e+00],\n",
       "       [0.00000000e+00, 1.00000000e+00],\n",
       "       [0.00000000e+00, 1.00000000e+00],\n",
       "       [0.00000000e+00, 1.00000000e+00],\n",
       "       [0.00000000e+00, 1.00000000e+00],\n",
       "       [0.00000000e+00, 1.00000000e+00],\n",
       "       [1.80182968e-02, 9.81981703e-01]])"
      ]
     },
     "execution_count": 43,
     "metadata": {},
     "output_type": "execute_result"
    }
   ],
   "source": [
    "model.predict_proba(X)"
   ]
  },
  {
   "cell_type": "markdown",
   "id": "developing-oxygen",
   "metadata": {},
   "source": [
    "### Keras\n",
    "Using the dataset of English and French datapoints, we apply logistic regression with Keras. We need the `Sequential` and `Dense` classes."
   ]
  },
  {
   "cell_type": "code",
   "execution_count": 1,
   "id": "urban-analysis",
   "metadata": {},
   "outputs": [
    {
     "name": "stderr",
     "output_type": "stream",
     "text": [
      "2023-03-05 22:36:25.723219: I tensorflow/core/platform/cpu_feature_guard.cc:193] This TensorFlow binary is optimized with oneAPI Deep Neural Network Library (oneDNN) to use the following CPU instructions in performance-critical operations:  AVX2 FMA\n",
      "To enable them in other operations, rebuild TensorFlow with the appropriate compiler flags.\n"
     ]
    }
   ],
   "source": [
    "\n",
    "from tensorflow.keras.layers import Dense\n",
    "from tensorflow.keras import Sequential "
   ]
  },
  {
   "cell_type": "code",
   "execution_count": 9,
   "id": "healthy-kingdom",
   "metadata": {},
   "outputs": [
    {
     "name": "stdout",
     "output_type": "stream",
     "text": [
      "Model: \"sequential\"\n",
      "_________________________________________________________________\n",
      " Layer (type)                Output Shape              Param #   \n",
      "=================================================================\n",
      " dense (Dense)               (None, 1)                 3         \n",
      "                                                                 \n",
      "=================================================================\n",
      "Total params: 3\n",
      "Trainable params: 3\n",
      "Non-trainable params: 0\n",
      "_________________________________________________________________\n"
     ]
    },
    {
     "name": "stderr",
     "output_type": "stream",
     "text": [
      "2023-03-05 22:37:13.319916: I tensorflow/core/platform/cpu_feature_guard.cc:193] This TensorFlow binary is optimized with oneAPI Deep Neural Network Library (oneDNN) to use the following CPU instructions in performance-critical operations:  AVX2 FMA\n",
      "To enable them in other operations, rebuild TensorFlow with the appropriate compiler flags.\n"
     ]
    }
   ],
   "source": [
    "model = Sequential()\n",
    "model.add(Dense(1, input_dim=2, activation='sigmoid'))\n",
    "model.compile(loss='binary_crossentropy',\n",
    "              optimizer='nadam',\n",
    "              metrics=['accuracy'])\n",
    "model.summary()"
   ]
  },
  {
   "cell_type": "markdown",
   "id": "animated-baseball",
   "metadata": {},
   "source": [
    "We fit the model"
   ]
  },
  {
   "cell_type": "code",
   "execution_count": 27,
   "id": "critical-banner",
   "metadata": {},
   "outputs": [
    {
     "data": {
      "text/plain": [
       "<keras.callbacks.History at 0x7f586c3cc850>"
      ]
     },
     "execution_count": 27,
     "metadata": {},
     "output_type": "execute_result"
    }
   ],
   "source": [
    "model.fit(X, y, epochs=10000, batch_size=4, verbose=0)"
   ]
  },
  {
   "cell_type": "code",
   "execution_count": 11,
   "id": "simple-aside",
   "metadata": {},
   "outputs": [
    {
     "data": {
      "text/plain": [
       "array([0., 0., 0., 0., 0., 0., 0., 0., 0., 0., 0., 0., 0., 0., 0., 1., 1.,\n",
       "       1., 1., 1., 1., 1., 1., 1., 1., 1., 1., 1., 1., 1.])"
      ]
     },
     "execution_count": 11,
     "metadata": {},
     "output_type": "execute_result"
    }
   ],
   "source": [
    "y"
   ]
  },
  {
   "cell_type": "code",
   "execution_count": 28,
   "id": "genuine-latino",
   "metadata": {},
   "outputs": [
    {
     "name": "stdout",
     "output_type": "stream",
     "text": [
      "1/1 [==============================] - 0s 18ms/step\n"
     ]
    },
    {
     "data": {
      "text/plain": [
       "array([[1.6020776e-24],\n",
       "       [1.4109090e-08],\n",
       "       [3.7779070e-02],\n",
       "       [2.6900657e-10],\n",
       "       [3.6065219e-18],\n",
       "       [1.4838233e-09],\n",
       "       [3.7172968e-21],\n",
       "       [5.8090387e-14],\n",
       "       [4.2715120e-10],\n",
       "       [1.1660840e-02],\n",
       "       [7.9541048e-03],\n",
       "       [1.7936601e-09],\n",
       "       [2.0722987e-34],\n",
       "       [4.0644747e-19],\n",
       "       [1.2628575e-12],\n",
       "       [1.0000000e+00],\n",
       "       [1.0000000e+00],\n",
       "       [9.6964556e-01],\n",
       "       [1.0000000e+00],\n",
       "       [9.9999976e-01],\n",
       "       [1.0000000e+00],\n",
       "       [1.0000000e+00],\n",
       "       [1.0000000e+00],\n",
       "       [1.0000000e+00],\n",
       "       [1.0000000e+00],\n",
       "       [1.0000000e+00],\n",
       "       [1.0000000e+00],\n",
       "       [1.0000000e+00],\n",
       "       [1.0000000e+00],\n",
       "       [9.6447021e-01]], dtype=float32)"
      ]
     },
     "execution_count": 28,
     "metadata": {},
     "output_type": "execute_result"
    }
   ],
   "source": [
    "model.predict(X)"
   ]
  },
  {
   "cell_type": "code",
   "execution_count": 29,
   "id": "contemporary-museum",
   "metadata": {},
   "outputs": [
    {
     "name": "stdout",
     "output_type": "stream",
     "text": [
      "1/1 [==============================] - 0s 19ms/step\n"
     ]
    },
    {
     "data": {
      "text/plain": [
       "array([[0],\n",
       "       [0],\n",
       "       [0],\n",
       "       [0],\n",
       "       [0],\n",
       "       [0],\n",
       "       [0],\n",
       "       [0],\n",
       "       [0],\n",
       "       [0],\n",
       "       [0],\n",
       "       [0],\n",
       "       [0],\n",
       "       [0],\n",
       "       [0],\n",
       "       [1],\n",
       "       [1],\n",
       "       [1],\n",
       "       [1],\n",
       "       [1],\n",
       "       [1],\n",
       "       [1],\n",
       "       [1],\n",
       "       [1],\n",
       "       [1],\n",
       "       [1],\n",
       "       [1],\n",
       "       [1],\n",
       "       [1],\n",
       "       [1]], dtype=int32)"
      ]
     },
     "execution_count": 29,
     "metadata": {},
     "output_type": "execute_result"
    }
   ],
   "source": [
    "(model.predict(X) > 0.5).astype('int32')"
   ]
  },
  {
   "cell_type": "code",
   "execution_count": 30,
   "id": "8d4b392b",
   "metadata": {},
   "outputs": [
    {
     "name": "stdout",
     "output_type": "stream",
     "text": [
      "1/1 [==============================] - 0s 18ms/step\n"
     ]
    },
    {
     "data": {
      "text/plain": [
       "array([ True,  True,  True,  True,  True,  True,  True,  True,  True,\n",
       "        True,  True,  True,  True,  True,  True,  True,  True,  True,\n",
       "        True,  True,  True,  True,  True,  True,  True,  True,  True,\n",
       "        True,  True,  True])"
      ]
     },
     "execution_count": 30,
     "metadata": {},
     "output_type": "execute_result"
    }
   ],
   "source": [
    "(model.predict(X) > 0.5).astype('int32').flatten() == y"
   ]
  },
  {
   "cell_type": "markdown",
   "id": "close-premium",
   "metadata": {},
   "source": [
    "If you do not obtain a correct classification, rerun the training with more epochs."
   ]
  },
  {
   "attachments": {},
   "cell_type": "markdown",
   "id": "handmade-involvement",
   "metadata": {},
   "source": [
    "## Reading\n",
    "You will read the article *An overview of gradient descent optimization algorithms* by Ruder (2017) and you will outline the main characteristics of all the optimization algorithms the author describes. This part should be of about one to two pages. Link to the article: https://arxiv.org/abs/1609.04747.\n",
    "\n",
    "You can also visualize the descents of the algorithm variants on Ruder's webpage: https://www.ruder.io/optimizing-gradient-descent/.\n",
    "\n",
    "If you understand French, or using Google translate, you may also want to read the original article on gradient descent by Cauchy here:  https://gallica.bnf.fr/ark:/12148/bpt6k2982c/f540.item.\n"
   ]
  },
  {
   "cell_type": "markdown",
   "id": "packed-student",
   "metadata": {},
   "source": [
    "### Report\n",
    "\n",
    "The assignment must be documented in the report, which should contain the following:\n",
    "\n",
    "*   The name of the author, the title of the assignment, and any relevant information on the front page;\n",
    "*   A presentation of the assignment and the possible improvements you would have brought;\n",
    "*   A presentation of your implementation;\n",
    "*   A print-out of the example set(s) and the resulting weight vectors;\n",
    "*   Comments on the results you have obtained, including your cross validation;\n",
    "*   A short dissertation on the optimization algorithms from Ruder's paper.\n",
    "\n",
    "Please, typeset and format your report consistently. You must use Latex. Documents written using MS Word or any similar format will not be considered.\n",
    "\n",
    "You may have a look at the code in the textbook code repository (or any other implementations), but the code you hand in must be your work."
   ]
  },
  {
   "cell_type": "markdown",
   "id": "apparent-cedar",
   "metadata": {},
   "source": [
    "## Submission\n",
    "Submit the notebook and the report to Canvas (two files). Do not include the code printout in the report, but only comments on its interesting parts. You will submit the notebook as a separate file."
   ]
  },
  {
   "cell_type": "code",
   "execution_count": null,
   "id": "endangered-occurrence",
   "metadata": {},
   "outputs": [],
   "source": []
  }
 ],
 "metadata": {
  "kernelspec": {
   "display_name": "py39",
   "language": "python",
   "name": "python3"
  },
  "language_info": {
   "codemirror_mode": {
    "name": "ipython",
    "version": 3
   },
   "file_extension": ".py",
   "mimetype": "text/x-python",
   "name": "python",
   "nbconvert_exporter": "python",
   "pygments_lexer": "ipython3",
   "version": "3.9.16"
  },
  "vscode": {
   "interpreter": {
    "hash": "2639f82f53ca99927ae6ee5f09d13ceb01ec01d87344165d88e29849af89c0e2"
   }
  }
 },
 "nbformat": 4,
 "nbformat_minor": 5
}
